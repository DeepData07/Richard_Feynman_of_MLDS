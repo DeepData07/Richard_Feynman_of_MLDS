{
 "cells": [
  {
   "cell_type": "markdown",
   "id": "b8d3774e",
   "metadata": {},
   "source": [
    "# Simple Output\n"
   ]
  },
  {
   "cell_type": "code",
   "execution_count": 13,
   "id": "6f126660",
   "metadata": {},
   "outputs": [
    {
     "name": "stdout",
     "output_type": "stream",
     "text": [
      "Hello World\n",
      "7\n",
      "True\n",
      "hello 7 True\n",
      "hello-7-True\n"
     ]
    }
   ],
   "source": [
    "print('Hello World')\n",
    "print(7)\n",
    "print(True)\n",
    "print('hello', 7, True)\n",
    "print('hello', 7, True,sep='-')#sep print ka argument hai, by default iska value space hai\n"
   ]
  },
  {
   "cell_type": "code",
   "execution_count": 12,
   "id": "9c81bc05",
   "metadata": {},
   "outputs": [
    {
     "name": "stdout",
     "output_type": "stream",
     "text": [
      "hello-world\n"
     ]
    }
   ],
   "source": [
    "print('hello', end='-')#end ki default value thi /n i.e. next line\n",
    "print('world')"
   ]
  },
  {
   "cell_type": "markdown",
   "id": "08c30d1a",
   "metadata": {},
   "source": [
    "# Data Types-Mostly Same, No char, array is list, tuples, sets, dictionary\n"
   ]
  },
  {
   "cell_type": "code",
   "execution_count": 20,
   "id": "7df2f12c",
   "metadata": {},
   "outputs": [
    {
     "name": "stdout",
     "output_type": "stream",
     "text": [
      "[1, 2, 3, 4]\n",
      "(1, 2, 3, 4)\n",
      "{1, 2, 3, 4}\n",
      "{'name': 'nitish', 'gender': 'male', 'weight': 70}\n"
     ]
    }
   ],
   "source": [
    "print([1,2,3,4])# list\n",
    "print((1,2,3,4))# tuple\n",
    "print({1,2,3,4})#sets\n",
    "print({'name':'nitish','gender':'male','weight':70})"
   ]
  },
  {
   "cell_type": "code",
   "execution_count": null,
   "id": "56874d98",
   "metadata": {},
   "outputs": [],
   "source": []
  }
 ],
 "metadata": {
  "kernelspec": {
   "display_name": "Python 3 (ipykernel)",
   "language": "python",
   "name": "python3"
  },
  "language_info": {
   "codemirror_mode": {
    "name": "ipython",
    "version": 3
   },
   "file_extension": ".py",
   "mimetype": "text/x-python",
   "name": "python",
   "nbconvert_exporter": "python",
   "pygments_lexer": "ipython3",
   "version": "3.10.2"
  }
 },
 "nbformat": 4,
 "nbformat_minor": 5
}
