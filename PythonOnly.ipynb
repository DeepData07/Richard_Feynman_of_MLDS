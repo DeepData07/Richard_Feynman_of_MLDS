{
 "cells": [
  {
   "cell_type": "markdown",
   "id": "ef795971",
   "metadata": {},
   "source": [
    "# Simple Output\n"
   ]
  },
  {
   "cell_type": "code",
   "execution_count": 13,
   "id": "802f2928",
   "metadata": {},
   "outputs": [
    {
     "name": "stdout",
     "output_type": "stream",
     "text": [
      "Hello World\n",
      "7\n",
      "True\n",
      "hello 7 True\n",
      "hello-7-True\n"
     ]
    }
   ],
   "source": [
    "print('Hello World')\n",
    "print(7)\n",
    "print(True)\n",
    "print('hello', 7, True)\n",
    "print('hello', 7, True,sep='-')#sep print ka argument hai, by default iska value space hai\n"
   ]
  },
  {
   "cell_type": "code",
   "execution_count": 12,
   "id": "53951f6b",
   "metadata": {},
   "outputs": [
    {
     "name": "stdout",
     "output_type": "stream",
     "text": [
      "hello-world\n"
     ]
    }
   ],
   "source": [
    "print('hello', end='-')#end ki default value thi /n i.e. next line\n",
    "print('world')"
   ]
  },
  {
   "cell_type": "markdown",
   "id": "5939e995",
   "metadata": {},
   "source": [
    "# Data Types-Mostly Same, No char, array is list, tuples, sets, dictionary\n"
   ]
  },
  {
   "cell_type": "code",
   "execution_count": 22,
   "id": "d77b81dd",
   "metadata": {},
   "outputs": [
    {
     "name": "stdout",
     "output_type": "stream",
     "text": [
      "[1, 2, 3, 4]\n",
      "(1, 2, 3, 4)\n",
      "{1, 2, 3, 4}\n",
      "{'name': 'nitish', 'gender': 'male', 'weight': 70}\n"
     ]
    },
    {
     "data": {
      "text/plain": [
       "float"
      ]
     },
     "execution_count": 22,
     "metadata": {},
     "output_type": "execute_result"
    }
   ],
   "source": [
    "print([1,2,3,4])# list\n",
    "print((1,2,3,4))# tuple\n",
    "print({1,2,3,4})#sets\n",
    "print({'name':'nitish','gender':'male','weight':70})\n",
    "type(2)\n",
    "type(2.3333)"
   ]
  },
  {
   "cell_type": "markdown",
   "id": "bb24b07c",
   "metadata": {},
   "source": [
    "# Variables - dynamic typing i.e. define ni krte variable if it is int, char, float etc python khud interprate krleta hai"
   ]
  },
  {
   "cell_type": "code",
   "execution_count": 25,
   "id": "2897dc1f",
   "metadata": {},
   "outputs": [
    {
     "name": "stdout",
     "output_type": "stream",
     "text": [
      "adi\n",
      "5\n",
      "hiii\n",
      "1 2 3\n"
     ]
    }
   ],
   "source": [
    "name = 'adi'\n",
    "print(name)\n",
    "# Dynamic binding - fix ni hota variable ka data type\n",
    "a=5\n",
    "print(a)\n",
    "a='hiii'\n",
    "print(a)\n",
    "a,b,c = 1,2,3\n",
    "print(a,b,c)"
   ]
  },
  {
   "cell_type": "markdown",
   "id": "9c10ef40",
   "metadata": {},
   "source": [
    "# User Input"
   ]
  },
  {
   "cell_type": "code",
   "execution_count": 1,
   "id": "ff061c5b",
   "metadata": {},
   "outputs": [
    {
     "name": "stdout",
     "output_type": "stream",
     "text": [
      "enetr nameaasasas\n",
      "enter no12\n",
      "enter no23\n",
      "23\n"
     ]
    }
   ],
   "source": [
    "input('enetr name')\n",
    "a=input('enter no1')\n",
    "b=input('enter no2')\n",
    "print(a+b)# imp concept python takes every input as string"
   ]
  },
  {
   "cell_type": "markdown",
   "id": "428b1d01",
   "metadata": {},
   "source": [
    "# Type Casting add two no** "
   ]
  },
  {
   "cell_type": "code",
   "execution_count": 2,
   "id": "80f066dd",
   "metadata": {},
   "outputs": [
    {
     "name": "stdout",
     "output_type": "stream",
     "text": [
      "enetr first no13\n",
      "enetr first no24\n",
      "7\n"
     ]
    }
   ],
   "source": [
    "print(4+4.6)# - implicit converiosn python do it itself\n",
    "a=int(input('enetr first no1'))# imp - this is explicit conversion\n",
    "b=int(input('enetr first no2'))\n",
    "c='5'\n",
    "int(c)\n",
    "type(c)#vvIMP - iska type ab bhi string hai, type conversion me purane me kuch change ni hota, ek naya hi value bna deta hai\n",
    "print(a+b)"
   ]
  },
  {
   "cell_type": "code",
   "execution_count": 5,
   "id": "b64fa600",
   "metadata": {},
   "outputs": [
    {
     "name": "stdout",
     "output_type": "stream",
     "text": [
      "10\n",
      "200\n",
      "300\n",
      "3.14j 0.0 3.14\n"
     ]
    }
   ],
   "source": [
    "print(0b1010)#binary\n",
    "print(0o310)#octal\n",
    "print(0x12c)#hexadecimal\n",
    "x=3.14j\n",
    "print(x,x.real,x.imag)"
   ]
  },
  {
   "cell_type": "code",
   "execution_count": 9,
   "id": "77be82a6",
   "metadata": {},
   "outputs": [
    {
     "name": "stdout",
     "output_type": "stream",
     "text": [
      "5\n",
      "None\n"
     ]
    }
   ],
   "source": [
    "a=True+4\n",
    "print(a)\n",
    "a=None\n",
    "print(a)"
   ]
  },
  {
   "cell_type": "markdown",
   "id": "f9bdf9f3",
   "metadata": {},
   "source": [
    "# OPERATORS"
   ]
  },
  {
   "cell_type": "markdown",
   "id": "99fbef72",
   "metadata": {},
   "source": [
    "Arithmetic - +, -, %, /, *, //, **(5**2=5 ki power 2)\n"
   ]
  },
  {
   "cell_type": "markdown",
   "id": "275f2049",
   "metadata": {},
   "source": [
    "Relational - <,>,=,==,!= etc"
   ]
  },
  {
   "cell_type": "markdown",
   "id": "febe7aeb",
   "metadata": {},
   "source": [
    "Logical - AND, OR, NOT"
   ]
  },
  {
   "cell_type": "code",
   "execution_count": 12,
   "id": "bd41f10d",
   "metadata": {},
   "outputs": [
    {
     "name": "stdout",
     "output_type": "stream",
     "text": [
      "0\n",
      "1\n",
      "True\n"
     ]
    }
   ],
   "source": [
    "print(1 and 0)\n",
    "print (1 or 0)\n",
    "print (not 0)"
   ]
  },
  {
   "cell_type": "markdown",
   "id": "5308c898",
   "metadata": {},
   "source": [
    "BITWISE OPERATORS"
   ]
  },
  {
   "cell_type": "code",
   "execution_count": 21,
   "id": "ba0789c5",
   "metadata": {},
   "outputs": [
    {
     "name": "stdout",
     "output_type": "stream",
     "text": [
      "2\n",
      "3\n",
      "1\n",
      "-4\n",
      "1\n"
     ]
    }
   ],
   "source": [
    "# bitwise and\n",
    "print (2 & 3)\n",
    "# bitwise or\n",
    "print(2|3)\n",
    "# bitwise XOR\n",
    "print(2^3)\n",
    "# bitwise not\n",
    "print(~3)\n",
    "# bitwise left shift\n",
    "print(4>>2)"
   ]
  },
  {
   "cell_type": "markdown",
   "id": "70cadb8b",
   "metadata": {},
   "source": [
    "MEMBERSHIP OPERATORS - in / not in - Works on string, int etc"
   ]
  },
  {
   "cell_type": "code",
   "execution_count": 25,
   "id": "e7a1b904",
   "metadata": {},
   "outputs": [
    {
     "name": "stdout",
     "output_type": "stream",
     "text": [
      "True\n",
      "False\n",
      "True\n"
     ]
    }
   ],
   "source": [
    "print('D' in 'Delhi')# - Delhi me D hai yani?\n",
    "print('D' not in 'Delhi')\n",
    "print(1 in [1,2,3,4,5])"
   ]
  },
  {
   "cell_type": "markdown",
   "id": "0480af3b",
   "metadata": {},
   "source": [
    "# if-else"
   ]
  },
  {
   "cell_type": "raw",
   "id": "858952ed",
   "metadata": {},
   "source": [
    "if condition:\n",
    "    if_code\n",
    "elif condition:\n",
    "    if else_code\n",
    "else:\n",
    "    else_code"
   ]
  },
  {
   "cell_type": "code",
   "execution_count": 1,
   "id": "ec3a32c8",
   "metadata": {},
   "outputs": [
    {
     "name": "stdout",
     "output_type": "stream",
     "text": [
      "1st no3\n",
      "2nd no5\n",
      "3rd no6\n",
      "greatest is c\n"
     ]
    }
   ],
   "source": [
    "f=int(input('1st no'))\n",
    "h=int(input('2nd no'))\n",
    "v=int(input('3rd no'))\n",
    "if f>h and f>v:\n",
    "    print('greatest is a')\n",
    "elif h>v:\n",
    "    print('greatest is b')\n",
    "else:\n",
    "    print('greatest is c')"
   ]
  },
  {
   "cell_type": "code",
   "execution_count": null,
   "id": "ed9739df",
   "metadata": {},
   "outputs": [],
   "source": []
  }
 ],
 "metadata": {
  "kernelspec": {
   "display_name": "Python 3 (ipykernel)",
   "language": "python",
   "name": "python3"
  },
  "language_info": {
   "codemirror_mode": {
    "name": "ipython",
    "version": 3
   },
   "file_extension": ".py",
   "mimetype": "text/x-python",
   "name": "python",
   "nbconvert_exporter": "python",
   "pygments_lexer": "ipython3",
   "version": "3.10.2"
  }
 },
 "nbformat": 4,
 "nbformat_minor": 5
}
