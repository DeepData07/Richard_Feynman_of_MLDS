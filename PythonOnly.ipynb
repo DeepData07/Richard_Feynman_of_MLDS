{
 "cells": [
  {
   "cell_type": "markdown",
   "id": "ef795971",
   "metadata": {},
   "source": [
    "# Simple Output\n"
   ]
  },
  {
   "cell_type": "code",
   "execution_count": 13,
   "id": "802f2928",
   "metadata": {},
   "outputs": [
    {
     "name": "stdout",
     "output_type": "stream",
     "text": [
      "Hello World\n",
      "7\n",
      "True\n",
      "hello 7 True\n",
      "hello-7-True\n"
     ]
    }
   ],
   "source": [
    "print('Hello World')\n",
    "print(7)\n",
    "print(True)\n",
    "print('hello', 7, True)\n",
    "print('hello', 7, True,sep='-')#sep print ka argument hai, by default iska value space hai\n"
   ]
  },
  {
   "cell_type": "code",
   "execution_count": 12,
   "id": "53951f6b",
   "metadata": {},
   "outputs": [
    {
     "name": "stdout",
     "output_type": "stream",
     "text": [
      "hello-world\n"
     ]
    }
   ],
   "source": [
    "print('hello', end='-')#end ki default value thi /n i.e. next line\n",
    "print('world')"
   ]
  },
  {
   "cell_type": "markdown",
   "id": "5939e995",
   "metadata": {},
   "source": [
    "# Data Types-Mostly Same, No char, array is list, tuples, sets, dictionary\n"
   ]
  },
  {
   "cell_type": "code",
   "execution_count": 22,
   "id": "d77b81dd",
   "metadata": {},
   "outputs": [
    {
     "name": "stdout",
     "output_type": "stream",
     "text": [
      "[1, 2, 3, 4]\n",
      "(1, 2, 3, 4)\n",
      "{1, 2, 3, 4}\n",
      "{'name': 'nitish', 'gender': 'male', 'weight': 70}\n"
     ]
    },
    {
     "data": {
      "text/plain": [
       "float"
      ]
     },
     "execution_count": 22,
     "metadata": {},
     "output_type": "execute_result"
    }
   ],
   "source": [
    "print([1,2,3,4])# list\n",
    "print((1,2,3,4))# tuple\n",
    "print({1,2,3,4})#sets\n",
    "print({'name':'nitish','gender':'male','weight':70})\n",
    "type(2)\n",
    "type(2.3333)"
   ]
  },
  {
   "cell_type": "markdown",
   "id": "bb24b07c",
   "metadata": {},
   "source": [
    "# Variables - dynamic typing i.e. define ni krte variable if it is int, char, float etc python khud interprate krleta hai"
   ]
  },
  {
   "cell_type": "code",
   "execution_count": 25,
   "id": "2897dc1f",
   "metadata": {},
   "outputs": [
    {
     "name": "stdout",
     "output_type": "stream",
     "text": [
      "adi\n",
      "5\n",
      "hiii\n",
      "1 2 3\n"
     ]
    }
   ],
   "source": [
    "name = 'adi'\n",
    "print(name)\n",
    "# Dynamic binding - fix ni hota variable ka data type\n",
    "a=5\n",
    "print(a)\n",
    "a='hiii'\n",
    "print(a)\n",
    "a,b,c = 1,2,3\n",
    "print(a,b,c)"
   ]
  },
  {
   "cell_type": "markdown",
   "id": "9c10ef40",
   "metadata": {},
   "source": [
    "# User Input"
   ]
  },
  {
   "cell_type": "markdown",
   "id": "80e1df60",
   "metadata": {},
   "source": [
    "in"
   ]
  },
  {
   "cell_type": "markdown",
   "id": "428b1d01",
   "metadata": {},
   "source": [
    "# Type Casting add two no** "
   ]
  },
  {
   "cell_type": "code",
   "execution_count": null,
   "id": "80f066dd",
   "metadata": {},
   "outputs": [],
   "source": []
  }
 ],
 "metadata": {
  "kernelspec": {
   "display_name": "Python 3 (ipykernel)",
   "language": "python",
   "name": "python3"
  },
  "language_info": {
   "codemirror_mode": {
    "name": "ipython",
    "version": 3
   },
   "file_extension": ".py",
   "mimetype": "text/x-python",
   "name": "python",
   "nbconvert_exporter": "python",
   "pygments_lexer": "ipython3",
   "version": "3.10.2"
  }
 },
 "nbformat": 4,
 "nbformat_minor": 5
}
