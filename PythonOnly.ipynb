{
 "cells": [
  {
   "cell_type": "markdown",
   "id": "ef795971",
   "metadata": {},
   "source": [
    "# Simple Output\n"
   ]
  },
  {
   "cell_type": "code",
   "execution_count": 13,
   "id": "802f2928",
   "metadata": {},
   "outputs": [
    {
     "name": "stdout",
     "output_type": "stream",
     "text": [
      "Hello World\n",
      "7\n",
      "True\n",
      "hello 7 True\n",
      "hello-7-True\n"
     ]
    }
   ],
   "source": [
    "print('Hello World')\n",
    "print(7)\n",
    "print(True)\n",
    "print('hello', 7, True)\n",
    "print('hello', 7, True,sep='-')#sep print ka argument hai, by default iska value space hai\n"
   ]
  },
  {
   "cell_type": "code",
   "execution_count": 12,
   "id": "53951f6b",
   "metadata": {},
   "outputs": [
    {
     "name": "stdout",
     "output_type": "stream",
     "text": [
      "hello-world\n"
     ]
    }
   ],
   "source": [
    "print('hello', end='-')#end ki default value thi /n i.e. next line\n",
    "print('world')"
   ]
  },
  {
   "cell_type": "markdown",
   "id": "5939e995",
   "metadata": {},
   "source": [
    "# Data Types-Mostly Same, No char, array is list, tuples, sets, dictionary\n"
   ]
  },
  {
   "cell_type": "code",
   "execution_count": 22,
   "id": "d77b81dd",
   "metadata": {},
   "outputs": [
    {
     "name": "stdout",
     "output_type": "stream",
     "text": [
      "[1, 2, 3, 4]\n",
      "(1, 2, 3, 4)\n",
      "{1, 2, 3, 4}\n",
      "{'name': 'nitish', 'gender': 'male', 'weight': 70}\n"
     ]
    },
    {
     "data": {
      "text/plain": [
       "float"
      ]
     },
     "execution_count": 22,
     "metadata": {},
     "output_type": "execute_result"
    }
   ],
   "source": [
    "print([1,2,3,4])# list\n",
    "print((1,2,3,4))# tuple\n",
    "print({1,2,3,4})#sets\n",
    "print({'name':'nitish','gender':'male','weight':70})\n",
    "type(2)\n",
    "type(2.3333)"
   ]
  },
  {
   "cell_type": "markdown",
   "id": "bb24b07c",
   "metadata": {},
   "source": [
    "# Variables - dynamic typing i.e. define ni krte variable if it is int, char, float etc python khud interprate krleta hai"
   ]
  },
  {
   "cell_type": "code",
   "execution_count": 25,
   "id": "2897dc1f",
   "metadata": {},
   "outputs": [
    {
     "name": "stdout",
     "output_type": "stream",
     "text": [
      "adi\n",
      "5\n",
      "hiii\n",
      "1 2 3\n"
     ]
    }
   ],
   "source": [
    "name = 'adi'\n",
    "print(name)\n",
    "# Dynamic binding - fix ni hota variable ka data type\n",
    "a=5\n",
    "print(a)\n",
    "a='hiii'\n",
    "print(a)\n",
    "a,b,c = 1,2,3\n",
    "print(a,b,c)"
   ]
  },
  {
   "cell_type": "markdown",
   "id": "9c10ef40",
   "metadata": {},
   "source": [
    "# User Input"
   ]
  },
  {
   "cell_type": "code",
   "execution_count": 1,
   "id": "ff061c5b",
   "metadata": {},
   "outputs": [
    {
     "name": "stdout",
     "output_type": "stream",
     "text": [
      "enetr nameaasasas\n",
      "enter no12\n",
      "enter no23\n",
      "23\n"
     ]
    }
   ],
   "source": [
    "input('enetr name')\n",
    "a=input('enter no1')\n",
    "b=input('enter no2')\n",
    "print(a+b)# imp concept python takes every input as string"
   ]
  },
  {
   "cell_type": "markdown",
   "id": "428b1d01",
   "metadata": {},
   "source": [
    "# Type Casting add two no** "
   ]
  },
  {
   "cell_type": "code",
   "execution_count": 2,
   "id": "80f066dd",
   "metadata": {},
   "outputs": [
    {
     "name": "stdout",
     "output_type": "stream",
     "text": [
      "enetr first no13\n",
      "enetr first no24\n",
      "7\n"
     ]
    }
   ],
   "source": [
    "print(4+4.6)# - implicit converiosn python do it itself\n",
    "a=int(input('enetr first no1'))# imp - this is explicit conversion\n",
    "b=int(input('enetr first no2'))\n",
    "c='5'\n",
    "int(c)\n",
    "type(c)#vvIMP - iska type ab bhi string hai, type conversion me purane me kuch change ni hota, ek naya hi value bna deta hai\n",
    "print(a+b)"
   ]
  },
  {
   "cell_type": "code",
   "execution_count": 5,
   "id": "b64fa600",
   "metadata": {},
   "outputs": [
    {
     "name": "stdout",
     "output_type": "stream",
     "text": [
      "10\n",
      "200\n",
      "300\n",
      "3.14j 0.0 3.14\n"
     ]
    }
   ],
   "source": [
    "print(0b1010)#binary\n",
    "print(0o310)#octal\n",
    "print(0x12c)#hexadecimal\n",
    "x=3.14j\n",
    "print(x,x.real,x.imag)"
   ]
  },
  {
   "cell_type": "code",
   "execution_count": 9,
   "id": "77be82a6",
   "metadata": {},
   "outputs": [
    {
     "name": "stdout",
     "output_type": "stream",
     "text": [
      "5\n",
      "None\n"
     ]
    }
   ],
   "source": [
    "a=True+4\n",
    "print(a)\n",
    "a=None\n",
    "print(a)"
   ]
  },
  {
   "cell_type": "markdown",
   "id": "f9bdf9f3",
   "metadata": {},
   "source": [
    "# OPERATORS"
   ]
  },
  {
   "cell_type": "markdown",
   "id": "99fbef72",
   "metadata": {},
   "source": [
    "Arithmetic - +, -, %, /, *, //, **(5**2=5 ki power 2)\n"
   ]
  },
  {
   "cell_type": "markdown",
   "id": "275f2049",
   "metadata": {},
   "source": [
    "Relational - <,>,=,==,!= etc"
   ]
  },
  {
   "cell_type": "markdown",
   "id": "febe7aeb",
   "metadata": {},
   "source": [
    "Logical - AND, OR, NOT"
   ]
  },
  {
   "cell_type": "code",
   "execution_count": 12,
   "id": "bd41f10d",
   "metadata": {},
   "outputs": [
    {
     "name": "stdout",
     "output_type": "stream",
     "text": [
      "0\n",
      "1\n",
      "True\n"
     ]
    }
   ],
   "source": [
    "print(1 and 0)\n",
    "print (1 or 0)\n",
    "print (not 0)"
   ]
  },
  {
   "cell_type": "markdown",
   "id": "5308c898",
   "metadata": {},
   "source": [
    "BITWISE OPERATORS"
   ]
  },
  {
   "cell_type": "code",
   "execution_count": 21,
   "id": "ba0789c5",
   "metadata": {},
   "outputs": [
    {
     "name": "stdout",
     "output_type": "stream",
     "text": [
      "2\n",
      "3\n",
      "1\n",
      "-4\n",
      "1\n"
     ]
    }
   ],
   "source": [
    "# bitwise and\n",
    "print (2 & 3)\n",
    "# bitwise or\n",
    "print(2|3)\n",
    "# bitwise XOR\n",
    "print(2^3)\n",
    "# bitwise not\n",
    "print(~3)\n",
    "# bitwise left shift\n",
    "print(4>>2)"
   ]
  },
  {
   "cell_type": "markdown",
   "id": "70cadb8b",
   "metadata": {},
   "source": [
    "MEMBERSHIP OPERATORS - in / not in - Works on string, int etc"
   ]
  },
  {
   "cell_type": "code",
   "execution_count": 25,
   "id": "e7a1b904",
   "metadata": {},
   "outputs": [
    {
     "name": "stdout",
     "output_type": "stream",
     "text": [
      "True\n",
      "False\n",
      "True\n"
     ]
    }
   ],
   "source": [
    "print('D' in 'Delhi')# - Delhi me D hai yani?\n",
    "print('D' not in 'Delhi')\n",
    "print(1 in [1,2,3,4,5])"
   ]
  },
  {
   "cell_type": "markdown",
   "id": "0480af3b",
   "metadata": {},
   "source": [
    "# if-else"
   ]
  },
  {
   "cell_type": "raw",
   "id": "858952ed",
   "metadata": {},
   "source": [
    "if condition:\n",
    "    if_code\n",
    "elif condition:\n",
    "    if else_code\n",
    "else:\n",
    "    else_code"
   ]
  },
  {
   "cell_type": "code",
   "execution_count": 1,
   "id": "ec3a32c8",
   "metadata": {},
   "outputs": [
    {
     "name": "stdout",
     "output_type": "stream",
     "text": [
      "1st no3\n",
      "2nd no5\n",
      "3rd no6\n",
      "greatest is c\n"
     ]
    }
   ],
   "source": [
    "f=int(input('1st no'))\n",
    "h=int(input('2nd no'))\n",
    "v=int(input('3rd no'))\n",
    "if f>h and f>v:\n",
    "    print('greatest is a')\n",
    "elif h>v:\n",
    "    print('greatest is b')\n",
    "else:\n",
    "    print('greatest is c')"
   ]
  },
  {
   "cell_type": "markdown",
   "id": "2da7e921",
   "metadata": {},
   "source": [
    "# MODULES"
   ]
  },
  {
   "cell_type": "code",
   "execution_count": 1,
   "id": "ed9739df",
   "metadata": {},
   "outputs": [
    {
     "name": "stdout",
     "output_type": "stream",
     "text": [
      "59\n"
     ]
    }
   ],
   "source": [
    "import random\n",
    "print(random.randint(1,100))"
   ]
  },
  {
   "cell_type": "code",
   "execution_count": 2,
   "id": "c0a0562e",
   "metadata": {},
   "outputs": [
    {
     "name": "stdout",
     "output_type": "stream",
     "text": [
      "\n",
      "Please wait a moment while I gather a list of all available modules...\n",
      "\n"
     ]
    },
    {
     "name": "stderr",
     "output_type": "stream",
     "text": [
      "C:\\Users\\adity\\AppData\\Roaming\\Python\\Python310\\site-packages\\nltk\\twitter\\__init__.py:20: UserWarning: The twython library has not been installed. Some functionality from the twitter package will not be available.\n",
      "  warnings.warn(\n",
      "C:\\Program Files\\Python310\\lib\\pkgutil.py:92: UserWarning: The numpy.array_api submodule is still experimental. See NEP 47.\n",
      "  __import__(info.name)\n",
      "C:\\Program Files\\Python310\\lib\\pkgutil.py:107: VisibleDeprecationWarning: zmq.eventloop.minitornado is deprecated in pyzmq 14.0 and will be removed.\n",
      "    Install tornado itself to use zmq with the tornado IOLoop.\n",
      "    \n",
      "  yield from walk_packages(path, info.name+'.', onerror)\n"
     ]
    },
    {
     "name": "stdout",
     "output_type": "stream",
     "text": [
      "IPython             catalogue           mmsystem            stat\n",
      "PIL                 certifi             modulefinder        statistics\n",
      "__future__          cffi                more_itertools      string\n",
      "_abc                cgi                 msilib              stringprep\n",
      "_aix_support        cgitb               msvcrt              struct\n",
      "_argon2_cffi_bindings charset_normalizer  multiprocessing     subprocess\n",
      "_ast                chunk               murmurhash          sunau\n",
      "_asyncio            click               nbclient            symtable\n",
      "_bisect             cmath               nbconvert           sys\n",
      "_blake2             cmd                 nbformat            sysconfig\n",
      "_bootsubprocess     code                nest_asyncio        tabnanny\n",
      "_bz2                codecs              netbios             tabulate\n",
      "_cffi_backend       codeop              netrc               tarfile\n",
      "_codecs             collections         nltk                telnetlib\n",
      "_codecs_cn          colorama            nntplib             tempfile\n",
      "_codecs_hk          colorsys            notebook            terminado\n",
      "_codecs_iso2022     commctrl            nt                  test\n",
      "_codecs_jp          compileall          ntpath              testpath\n",
      "_codecs_kr          concurrent          ntsecuritycon       textwrap\n",
      "_codecs_tw          confection          nturl2path          thinc\n",
      "_collections        configparser        numbers             this\n",
      "_collections_abc    contextlib          numpy               threading\n",
      "_compat_pickle      contextvars         oauthlib            threadpoolctl\n",
      "_compression        copy                odbc                time\n",
      "_contextvars        copyreg             opcode              timeit\n",
      "_csv                crypt               operator            timer\n",
      "_ctypes             csv                 optparse            tkinter\n",
      "_ctypes_test        ctypes              os                  token\n",
      "_datetime           curses              packaging           tokenize\n",
      "_decimal            cv2                 pandas              tornado\n",
      "_distutils_hack     cycler              pandocfilters       tqdm\n",
      "_elementtree        cymem               parso               trace\n",
      "_functools          dataclasses         pathlib             traceback\n",
      "_hashlib            datetime            pathy               tracemalloc\n",
      "_heapq              dateutil            pdb                 traitlets\n",
      "_imp                dbi                 perfmon             tty\n",
      "_io                 dbm                 pickle              turtle\n",
      "_json               dde                 pickleshare         turtledemo\n",
      "_locale             debugpy             pickletools         typer\n",
      "_lsprof             decimal             pip                 types\n",
      "_lzma               decorator           pipes               typing\n",
      "_markupbase         defusedxml          pkg_resources       typing_extensions\n",
      "_md5                difflib             pkgutil             unicodedata\n",
      "_msi                dis                 platform            unittest\n",
      "_multibytecodec     distutils           plistlib            uritemplate\n",
      "_multiprocessing    docker              poplib              urllib\n",
      "_opcode             doctest             posixpath           urllib3\n",
      "_operator           docutils            pprint              uu\n",
      "_osx_support        email               preshed             uuid\n",
      "_overlapped         en_core_web_sm      profile             vaderSentiment\n",
      "_pickle             encodings           prometheus_client   venv\n",
      "_py_abc             ensurepip           prompt_toolkit      voluptuous\n",
      "_pydecimal          entrypoints         pstats              warnings\n",
      "_pyio               enum                pty                 wasabi\n",
      "_pyrsistent_version errno               pure_eval           wave\n",
      "_queue              executing           pvectorc            wcwidth\n",
      "_random             faulthandler        py4j                weakref\n",
      "_ruamel_yaml        filecmp             py_compile          webbrowser\n",
      "_sha1               fileinput           pyasn1              webencodings\n",
      "_sha256             fnmatch             pyasn1_modules      websocket\n",
      "_sha3               fontTools           pyclbr              widgetsnbextension\n",
      "_sha512             fractions           pycparser           win2kras\n",
      "_signal             ftplib              pydantic            win32api\n",
      "_sitebuiltins       functools           pydoc               win32clipboard\n",
      "_socket             gc                  pydoc_data          win32com\n",
      "_sqlite3            genericpath         pyexpat             win32con\n",
      "_sre                getopt              pygments            win32console\n",
      "_ssl                getpass             pylab               win32cred\n",
      "_stat               gettext             pyparsing           win32crypt\n",
      "_statistics         glob                pyrsistent          win32cryptcon\n",
      "_string             google_auth_httplib2 pyspark             win32ctypes\n",
      "_strptime           google_auth_oauthlib pythoncom           win32event\n",
      "_struct             googleapiclient     pytz                win32evtlog\n",
      "_symtable           graphlib            pywin               win32evtlogutil\n",
      "_testbuffer         gzip                pywin32_bootstrap   win32file\n",
      "_testcapi           hashlib             pywin32_testutil    win32gui\n",
      "_testconsole        heapq               pywintypes          win32gui_struct\n",
      "_testimportmultiple hmac                qtconsole           win32help\n",
      "_testinternalcapi   html                qtpy                win32inet\n",
      "_testmultiphase     http                queue               win32inetcon\n",
      "_thread             httplib2            quopri              win32job\n",
      "_threading_local    idlelib             random              win32lz\n",
      "_tkinter            idna                rasutil             win32net\n",
      "_tracemalloc        imaplib             re                  win32netcon\n",
      "_uuid               imghdr              regcheck            win32pdh\n",
      "_warnings           imp                 regex               win32pdhquery\n",
      "_weakref            importlib           regutil             win32pdhutil\n",
      "_weakrefset         inspect             reprlib             win32pipe\n",
      "_win32sysloader     io                  requests            win32print\n",
      "_winapi             ipaddress           requests_oauthlib   win32process\n",
      "_winxptheme         ipykernel           rlcompleter         win32profile\n",
      "_xxsubinterpreters  ipykernel_launcher  rsa                 win32ras\n",
      "_yaml               ipython_genutils    runpy               win32rcparser\n",
      "_zoneinfo           ipywidgets          s3transfer          win32security\n",
      "abc                 isapi               sched               win32service\n",
      "adodbapi            itertools           scipy               win32serviceutil\n",
      "afxres              jedi                seaborn             win32timezone\n",
      "aifc                jinja2              secrets             win32trace\n",
      "antigravity         jmespath            select              win32traceutil\n",
      "apiclient           joblib              selectors           win32transaction\n",
      "argon2              json                send2trash          win32ts\n",
      "argparse            jsonschema          servicemanager      win32ui\n",
      "array               jupyter             setuptools          win32uiole\n",
      "ast                 jupyter_client      shelve              win32verstamp\n",
      "asttokens           jupyter_console     shlex               win32wnet\n",
      "asynchat            jupyter_core        shutil              winerror\n",
      "asyncio             jupyterlab_pygments signal              winioctlcon\n",
      "asyncore            jupyterlab_widgets  site                winnt\n",
      "atexit              keyring             six                 winperf\n",
      "attr                keyrings            sklearn             winpty\n",
      "attrs               keyword             smart_open          winreg\n",
      "audioop             kiwisolver          smtpd               winsound\n",
      "awscli              langcodes           smtplib             winxpgui\n",
      "backcall            lib2to3             sndhdr              winxptheme\n",
      "base64              linecache           socket              wsgiref\n",
      "bdb                 locale              socketserver        xdrlib\n",
      "binascii            logging             spacy               xml\n",
      "binhex              lzma                spacy_legacy        xmlrpc\n",
      "bisect              mailbox             spacy_loggers       xxsubtype\n",
      "bleach              mailcap             sqlite3             yaml\n",
      "blis                markupsafe          sre_compile         yolo\n",
      "boto3               marshal             sre_constants       zipapp\n",
      "botocore            math                sre_parse           zipfile\n",
      "broom               matplotlib          srsly               zipimport\n",
      "builtins            matplotlib_inline   ssl                 zlib\n",
      "bz2                 mimetypes           sspi                zmq\n",
      "cProfile            mistune             sspicon             zoneinfo\n",
      "cachetools          mmap                stack_data          \n",
      "calendar            mmapfile            start_pythonwin     \n",
      "\n",
      "Enter any module name to get more help.  Or, type \"modules spam\" to search\n",
      "for modules whose name or summary contain the string \"spam\".\n",
      "\n"
     ]
    }
   ],
   "source": [
    "help('modules')"
   ]
  },
  {
   "cell_type": "markdown",
   "id": "f6e6deed",
   "metadata": {},
   "source": [
    "# LOOPS - \n"
   ]
  },
  {
   "cell_type": "code",
   "execution_count": 1,
   "id": "1e7a604c",
   "metadata": {},
   "outputs": [
    {
     "name": "stdout",
     "output_type": "stream",
     "text": [
      "enter the no10\n",
      "10\n",
      "20\n",
      "30\n",
      "40\n",
      "50\n",
      "60\n",
      "70\n",
      "80\n",
      "90\n",
      "100\n"
     ]
    }
   ],
   "source": [
    "#while loops\n",
    "no = int(input('enter the no'))\n",
    "i=1\n",
    "while i<11:\n",
    "    print(no*i)\n",
    "    i=i+1"
   ]
  },
  {
   "cell_type": "code",
   "execution_count": 1,
   "id": "cb302334",
   "metadata": {},
   "outputs": [
    {
     "name": "stdout",
     "output_type": "stream",
     "text": [
      "1\n",
      "2\n",
      "loopp ended\n"
     ]
    }
   ],
   "source": [
    "x=1\n",
    "while x<3:\n",
    "    print(x)\n",
    "    x=x+1\n",
    "else:\n",
    "    print('loopp ended')"
   ]
  },
  {
   "cell_type": "code",
   "execution_count": 2,
   "id": "1ee85a77",
   "metadata": {},
   "outputs": [
    {
     "name": "stdout",
     "output_type": "stream",
     "text": [
      "1\n",
      "2\n",
      "3\n",
      "4\n",
      "5\n",
      "6\n",
      "7\n",
      "8\n",
      "9\n",
      "10\n"
     ]
    }
   ],
   "source": [
    "# for loops\n",
    "for i in  range(1,11):\n",
    "    print(i)"
   ]
  },
  {
   "cell_type": "code",
   "execution_count": 3,
   "id": "a905e5c1",
   "metadata": {},
   "outputs": [
    {
     "name": "stdout",
     "output_type": "stream",
     "text": [
      "1\n",
      "3\n",
      "5\n",
      "7\n",
      "9\n"
     ]
    }
   ],
   "source": [
    "for i in  range(1,11,2):\n",
    "    print(i)"
   ]
  },
  {
   "cell_type": "code",
   "execution_count": 4,
   "id": "d24f5829",
   "metadata": {},
   "outputs": [
    {
     "name": "stdout",
     "output_type": "stream",
     "text": [
      "11\n",
      "9\n",
      "7\n",
      "5\n",
      "3\n"
     ]
    }
   ],
   "source": [
    "for i in  range(11,1,-2):\n",
    "    print(i)"
   ]
  },
  {
   "cell_type": "code",
   "execution_count": 6,
   "id": "2906b5f6",
   "metadata": {},
   "outputs": [
    {
     "name": "stdout",
     "output_type": "stream",
     "text": [
      "D\n",
      "e\n",
      "l\n",
      "h\n",
      "i\n"
     ]
    }
   ],
   "source": [
    "for i in 'Delhi':\n",
    "    print (i)"
   ]
  },
  {
   "cell_type": "code",
   "execution_count": 7,
   "id": "b6bf6e05",
   "metadata": {},
   "outputs": [
    {
     "name": "stdout",
     "output_type": "stream",
     "text": [
      "1\n",
      "2\n",
      "3\n",
      "4\n"
     ]
    }
   ],
   "source": [
    "for i in [1,2,3,4]:\n",
    "    print(i)"
   ]
  },
  {
   "cell_type": "code",
   "execution_count": 8,
   "id": "d90253fa",
   "metadata": {},
   "outputs": [
    {
     "name": "stdout",
     "output_type": "stream",
     "text": [
      "* \n",
      "* * \n",
      "* * * \n",
      "* * * * \n",
      "* * * * * \n",
      "* * * * * * \n",
      "* * * * * * * \n",
      "* * * * * * * * \n",
      "* * * * * * * * * \n",
      "* * * * * * * * * * \n"
     ]
    }
   ],
   "source": [
    "for i in range(1,11):\n",
    "    for j in range(1,i+1):\n",
    "        print('*', end=' ')\n",
    "    print()"
   ]
  },
  {
   "cell_type": "code",
   "execution_count": 10,
   "id": "697f587a",
   "metadata": {},
   "outputs": [
    {
     "name": "stdout",
     "output_type": "stream",
     "text": [
      "1 \n",
      "1 2 1 \n",
      "1 2 3 2 1 \n",
      "1 2 3 4 3 2 1 \n",
      "1 2 3 4 5 4 3 2 1 \n",
      "1 2 3 4 5 6 5 4 3 2 1 \n",
      "1 2 3 4 5 6 7 6 5 4 3 2 1 \n",
      "1 2 3 4 5 6 7 8 7 6 5 4 3 2 1 \n",
      "1 2 3 4 5 6 7 8 9 8 7 6 5 4 3 2 1 \n",
      "1 2 3 4 5 6 7 8 9 10 9 8 7 6 5 4 3 2 1 \n"
     ]
    }
   ],
   "source": [
    "for i in range(1,11):\n",
    "    for j in range(1,i+1):\n",
    "        print(j, end=' ')\n",
    "    for k in range(i-1,0,-1):\n",
    "        print(k, end =' ')\n",
    "    print()\n",
    "    "
   ]
  },
  {
   "cell_type": "markdown",
   "id": "486ac19a",
   "metadata": {},
   "source": [
    "# # Loop Control - break, continue, pass"
   ]
  },
  {
   "cell_type": "code",
   "execution_count": 11,
   "id": "f5efc83a",
   "metadata": {},
   "outputs": [
    {
     "name": "stdout",
     "output_type": "stream",
     "text": [
      "1\n",
      "2\n",
      "3\n",
      "4\n"
     ]
    }
   ],
   "source": [
    "for i in range(1,11):\n",
    "    if i==5:\n",
    "        break\n",
    "    print (i)"
   ]
  },
  {
   "cell_type": "code",
   "execution_count": 12,
   "id": "5a223933",
   "metadata": {},
   "outputs": [
    {
     "name": "stdout",
     "output_type": "stream",
     "text": [
      "1\n",
      "2\n",
      "3\n",
      "4\n",
      "6\n",
      "7\n",
      "8\n",
      "9\n",
      "10\n"
     ]
    }
   ],
   "source": [
    "for i in range(1,11):\n",
    "    if i==5:\n",
    "        continue\n",
    "    print (i)"
   ]
  },
  {
   "cell_type": "code",
   "execution_count": 13,
   "id": "d2a468b6",
   "metadata": {},
   "outputs": [],
   "source": [
    "#abhi pta ni is loop me kya hai pr future me use ho sakt hai\n",
    "for i in range(1,11):\n",
    "    pass"
   ]
  },
  {
   "cell_type": "markdown",
   "id": "6b792779",
   "metadata": {},
   "source": [
    "# STRINGS"
   ]
  },
  {
   "cell_type": "markdown",
   "id": "ed9e22e1",
   "metadata": {},
   "source": [
    "Creating strings"
   ]
  },
  {
   "cell_type": "code",
   "execution_count": 15,
   "id": "e102ed9b",
   "metadata": {},
   "outputs": [
    {
     "name": "stdout",
     "output_type": "stream",
     "text": [
      "hello\n",
      "hello\n",
      "hello\n"
     ]
    }
   ],
   "source": [
    "print('hello')\n",
    "print(\"hello\")#agar sentence me it's jaisa kuch agya to\n",
    "print(\"\"\"hello\"\"\")#for multiline strings"
   ]
  },
  {
   "cell_type": "markdown",
   "id": "043bc8f9",
   "metadata": {},
   "source": [
    "Accessing substrings"
   ]
  },
  {
   "cell_type": "code",
   "execution_count": 18,
   "id": "548d12ed",
   "metadata": {},
   "outputs": [
    {
     "name": "stdout",
     "output_type": "stream",
     "text": [
      "h\n",
      "d\n"
     ]
    }
   ],
   "source": [
    "#Indexing\n",
    "#Positive Indexing\n",
    "s='hello world'\n",
    "print(s[0])\n",
    "#negative indexing\n",
    "g=\"hello world\"\n",
    "print(g[-1])"
   ]
  },
  {
   "cell_type": "markdown",
   "id": "fb35f887",
   "metadata": {},
   "source": [
    "SLICING"
   ]
  },
  {
   "cell_type": "code",
   "execution_count": 31,
   "id": "a0e0053e",
   "metadata": {},
   "outputs": [
    {
     "name": "stdout",
     "output_type": "stream",
     "text": [
      "hello\n",
      "hello world\n",
      "hello worl\n",
      "hello world\n",
      "hlow\n",
      "w olle\n",
      "world\n",
      "dlrow\n",
      "dlrow olleh\n"
     ]
    }
   ],
   "source": [
    "s='hello world'\n",
    "print(s[0:5])\n",
    "print(s[0:])\n",
    "print(s[:-1])\n",
    "print(s[:])\n",
    "print(s[0:8:2])\n",
    "print(s[6:0:-1])\n",
    "print(s[-5:])#negative indexing can also be used\n",
    "print(s[-1:-6:-1])\n",
    "############ reverse a string\n",
    "print(s[::-1])"
   ]
  },
  {
   "cell_type": "markdown",
   "id": "39540b65",
   "metadata": {},
   "source": [
    "editing and deleting a string"
   ]
  },
  {
   "cell_type": "code",
   "execution_count": 1,
   "id": "868686fa",
   "metadata": {},
   "outputs": [
    {
     "ename": "TypeError",
     "evalue": "'str' object does not support item assignment",
     "output_type": "error",
     "traceback": [
      "\u001b[1;31m---------------------------------------------------------------------------\u001b[0m",
      "\u001b[1;31mTypeError\u001b[0m                                 Traceback (most recent call last)",
      "Input \u001b[1;32mIn [1]\u001b[0m, in \u001b[0;36m<cell line: 2>\u001b[1;34m()\u001b[0m\n\u001b[0;32m      1\u001b[0m s\u001b[38;5;241m=\u001b[39m\u001b[38;5;124m'\u001b[39m\u001b[38;5;124mhello world\u001b[39m\u001b[38;5;124m'\u001b[39m\n\u001b[1;32m----> 2\u001b[0m s[\u001b[38;5;241m0\u001b[39m]\u001b[38;5;241m=\u001b[39m\u001b[38;5;124m'\u001b[39m\u001b[38;5;124mK\u001b[39m\u001b[38;5;124m'\u001b[39m\n",
      "\u001b[1;31mTypeError\u001b[0m: 'str' object does not support item assignment"
     ]
    }
   ],
   "source": [
    "#**Python strings are immutable\n",
    "s='hello world'\n",
    "s[0]='K'\n"
   ]
  },
  {
   "cell_type": "code",
   "execution_count": 3,
   "id": "1c7c45c4",
   "metadata": {},
   "outputs": [
    {
     "ename": "NameError",
     "evalue": "name 's' is not defined",
     "output_type": "error",
     "traceback": [
      "\u001b[1;31m---------------------------------------------------------------------------\u001b[0m",
      "\u001b[1;31mNameError\u001b[0m                                 Traceback (most recent call last)",
      "Input \u001b[1;32mIn [3]\u001b[0m, in \u001b[0;36m<cell line: 4>\u001b[1;34m()\u001b[0m\n\u001b[0;32m      2\u001b[0m s\u001b[38;5;241m=\u001b[39m\u001b[38;5;124m'\u001b[39m\u001b[38;5;124mhello world\u001b[39m\u001b[38;5;124m'\u001b[39m\n\u001b[0;32m      3\u001b[0m \u001b[38;5;28;01mdel\u001b[39;00m s\n\u001b[1;32m----> 4\u001b[0m \u001b[38;5;28mprint\u001b[39m(s)\n",
      "\u001b[1;31mNameError\u001b[0m: name 's' is not defined"
     ]
    }
   ],
   "source": [
    "#delete\n",
    "s='hello world'\n",
    "del s\n",
    "print(s)"
   ]
  },
  {
   "cell_type": "code",
   "execution_count": 4,
   "id": "d834ae0d",
   "metadata": {},
   "outputs": [
    {
     "ename": "TypeError",
     "evalue": "'str' object does not support item deletion",
     "output_type": "error",
     "traceback": [
      "\u001b[1;31m---------------------------------------------------------------------------\u001b[0m",
      "\u001b[1;31mTypeError\u001b[0m                                 Traceback (most recent call last)",
      "Input \u001b[1;32mIn [4]\u001b[0m, in \u001b[0;36m<cell line: 2>\u001b[1;34m()\u001b[0m\n\u001b[0;32m      1\u001b[0m s\u001b[38;5;241m=\u001b[39m\u001b[38;5;124m'\u001b[39m\u001b[38;5;124mhello world\u001b[39m\u001b[38;5;124m'\u001b[39m\n\u001b[1;32m----> 2\u001b[0m \u001b[38;5;28;01mdel\u001b[39;00m s[\u001b[38;5;241m-\u001b[39m\u001b[38;5;241m1\u001b[39m:\u001b[38;5;241m-\u001b[39m\u001b[38;5;241m5\u001b[39m:\u001b[38;5;241m2\u001b[39m]\n\u001b[0;32m      3\u001b[0m \u001b[38;5;28mprint\u001b[39m(s)\n",
      "\u001b[1;31mTypeError\u001b[0m: 'str' object does not support item deletion"
     ]
    }
   ],
   "source": [
    "#becuase string is immmutable\n",
    "s='hello world'\n",
    "del s[-1:-5:2]\n",
    "print(s)"
   ]
  },
  {
   "cell_type": "markdown",
   "id": "fae922ca",
   "metadata": {},
   "source": [
    "# Operations on strings"
   ]
  },
  {
   "cell_type": "markdown",
   "id": "f353ad09",
   "metadata": {},
   "source": [
    "Arithmetic, Relational, Logical, Loops, Membership"
   ]
  },
  {
   "cell_type": "code",
   "execution_count": 5,
   "id": "664fc587",
   "metadata": {},
   "outputs": [
    {
     "name": "stdout",
     "output_type": "stream",
     "text": [
      "DelhiMumbai\n"
     ]
    }
   ],
   "source": [
    "print('Delhi'+'Mumbai')"
   ]
  },
  {
   "cell_type": "code",
   "execution_count": 6,
   "id": "35645af9",
   "metadata": {},
   "outputs": [
    {
     "name": "stdout",
     "output_type": "stream",
     "text": [
      "DelhiDelhiDelhiDelhiDelhi\n"
     ]
    }
   ],
   "source": [
    "print('Delhi'*5)"
   ]
  },
  {
   "cell_type": "code",
   "execution_count": 7,
   "id": "939e3f52",
   "metadata": {},
   "outputs": [
    {
     "data": {
      "text/plain": [
       "False"
      ]
     },
     "execution_count": 7,
     "metadata": {},
     "output_type": "execute_result"
    }
   ],
   "source": [
    "'delhi' == 'Mubmai'"
   ]
  },
  {
   "cell_type": "code",
   "execution_count": 8,
   "id": "e01789ea",
   "metadata": {},
   "outputs": [
    {
     "data": {
      "text/plain": [
       "False"
      ]
     },
     "execution_count": 8,
     "metadata": {},
     "output_type": "execute_result"
    }
   ],
   "source": [
    "'delhi'=='Delhi'"
   ]
  },
  {
   "cell_type": "code",
   "execution_count": 9,
   "id": "1b05554a",
   "metadata": {},
   "outputs": [
    {
     "data": {
      "text/plain": [
       "True"
      ]
     },
     "execution_count": 9,
     "metadata": {},
     "output_type": "execute_result"
    }
   ],
   "source": [
    "'delhi'=='delhi'"
   ]
  },
  {
   "cell_type": "code",
   "execution_count": 10,
   "id": "9fb11fd3",
   "metadata": {},
   "outputs": [
    {
     "data": {
      "text/plain": [
       "False"
      ]
     },
     "execution_count": 10,
     "metadata": {},
     "output_type": "execute_result"
    }
   ],
   "source": [
    "# lexiographically compare kre hai, jiski ASCII value badi hai ya jo dictionary me baad me aega vo bada hoga\n",
    "'mumbai'>'pune'"
   ]
  },
  {
   "cell_type": "code",
   "execution_count": 11,
   "id": "2b6bff49",
   "metadata": {},
   "outputs": [
    {
     "data": {
      "text/plain": [
       "True"
      ]
     },
     "execution_count": 11,
     "metadata": {},
     "output_type": "execute_result"
    }
   ],
   "source": [
    "'b'>'a'"
   ]
  },
  {
   "cell_type": "code",
   "execution_count": 12,
   "id": "bac45239",
   "metadata": {},
   "outputs": [
    {
     "data": {
      "text/plain": [
       "False"
      ]
     },
     "execution_count": 12,
     "metadata": {},
     "output_type": "execute_result"
    }
   ],
   "source": [
    "#capital is always small\n",
    "'Pune'>'pune'"
   ]
  },
  {
   "cell_type": "code",
   "execution_count": 13,
   "id": "ec552660",
   "metadata": {},
   "outputs": [
    {
     "data": {
      "text/plain": [
       "'world'"
      ]
     },
     "execution_count": 13,
     "metadata": {},
     "output_type": "execute_result"
    }
   ],
   "source": [
    "'hello' and 'world'"
   ]
  },
  {
   "cell_type": "code",
   "execution_count": 14,
   "id": "2eed8d7a",
   "metadata": {},
   "outputs": [
    {
     "data": {
      "text/plain": [
       "'hello'"
      ]
     },
     "execution_count": 14,
     "metadata": {},
     "output_type": "execute_result"
    }
   ],
   "source": [
    "'hello' or 'world'"
   ]
  },
  {
   "cell_type": "code",
   "execution_count": 15,
   "id": "977c6cb2",
   "metadata": {},
   "outputs": [],
   "source": [
    "#imp - \n",
    "# python me empty string = 0 and other strings =1\n",
    "#'hello' or 'world' --> 1 or 1, to jo pehla true agya use hi print kuki or me ek hi true chahiye\n",
    "# 'hello' and 'world' --> 1 and 1, and me dono 1 chhaiye to dusra bhi check krna pdega, isliye second printhota hia"
   ]
  },
  {
   "cell_type": "code",
   "execution_count": 17,
   "id": "9acc33cd",
   "metadata": {},
   "outputs": [
    {
     "data": {
      "text/plain": [
       "''"
      ]
     },
     "execution_count": 17,
     "metadata": {},
     "output_type": "execute_result"
    }
   ],
   "source": [
    "'' and 'hello'"
   ]
  },
  {
   "cell_type": "code",
   "execution_count": 18,
   "id": "fa549e4d",
   "metadata": {},
   "outputs": [
    {
     "data": {
      "text/plain": [
       "'world'"
      ]
     },
     "execution_count": 18,
     "metadata": {},
     "output_type": "execute_result"
    }
   ],
   "source": [
    "'' or 'world'"
   ]
  },
  {
   "cell_type": "code",
   "execution_count": 19,
   "id": "5c82c581",
   "metadata": {},
   "outputs": [
    {
     "data": {
      "text/plain": [
       "True"
      ]
     },
     "execution_count": 19,
     "metadata": {},
     "output_type": "execute_result"
    }
   ],
   "source": [
    "not ''"
   ]
  },
  {
   "cell_type": "code",
   "execution_count": 20,
   "id": "3f256487",
   "metadata": {},
   "outputs": [
    {
     "data": {
      "text/plain": [
       "False"
      ]
     },
     "execution_count": 20,
     "metadata": {},
     "output_type": "execute_result"
    }
   ],
   "source": [
    "not 'hi'"
   ]
  },
  {
   "cell_type": "code",
   "execution_count": 21,
   "id": "d4e19aca",
   "metadata": {},
   "outputs": [
    {
     "name": "stdout",
     "output_type": "stream",
     "text": [
      "h\n",
      "e\n",
      "l\n",
      "l\n",
      "o\n"
     ]
    }
   ],
   "source": [
    "for i in 'hello':\n",
    "    print(i)"
   ]
  },
  {
   "cell_type": "code",
   "execution_count": 22,
   "id": "0134211d",
   "metadata": {},
   "outputs": [
    {
     "name": "stdout",
     "output_type": "stream",
     "text": [
      "pune\n",
      "pune\n",
      "pune\n",
      "pune\n",
      "pune\n"
     ]
    }
   ],
   "source": [
    "#impppp\n",
    "for i in 'delhi':\n",
    "    print('pune')"
   ]
  },
  {
   "cell_type": "markdown",
   "id": "3e077b18",
   "metadata": {},
   "source": [
    "# String Functions"
   ]
  },
  {
   "cell_type": "markdown",
   "id": "0f8b3f41",
   "metadata": {},
   "source": [
    "1-Common functions - work on sring, tuple, set"
   ]
  },
  {
   "cell_type": "code",
   "execution_count": 23,
   "id": "12515003",
   "metadata": {},
   "outputs": [
    {
     "data": {
      "text/plain": [
       "11"
      ]
     },
     "execution_count": 23,
     "metadata": {},
     "output_type": "execute_result"
    }
   ],
   "source": [
    "# 1 - len\n",
    "len('hello world')"
   ]
  },
  {
   "cell_type": "code",
   "execution_count": 24,
   "id": "1163ad6c",
   "metadata": {},
   "outputs": [],
   "source": [
    "# 2 - max"
   ]
  },
  {
   "cell_type": "code",
   "execution_count": 25,
   "id": "5dda74f0",
   "metadata": {},
   "outputs": [
    {
     "data": {
      "text/plain": [
       "'w'"
      ]
     },
     "execution_count": 25,
     "metadata": {},
     "output_type": "execute_result"
    }
   ],
   "source": [
    "max('hello world')"
   ]
  },
  {
   "cell_type": "code",
   "execution_count": 26,
   "id": "d1f64eb5",
   "metadata": {},
   "outputs": [
    {
     "data": {
      "text/plain": [
       "' '"
      ]
     },
     "execution_count": 26,
     "metadata": {},
     "output_type": "execute_result"
    }
   ],
   "source": [
    "# 3 - min\n",
    "min('hello world')"
   ]
  },
  {
   "cell_type": "code",
   "execution_count": 29,
   "id": "f7dbc15a",
   "metadata": {},
   "outputs": [
    {
     "data": {
      "text/plain": [
       "['w', 'r', 'o', 'o', 'l', 'l', 'l', 'h', 'e', 'd', ' ']"
      ]
     },
     "execution_count": 29,
     "metadata": {},
     "output_type": "execute_result"
    }
   ],
   "source": [
    "#4 - sorted\n",
    "# its output is in th eform of list \n",
    "#default valuse is ascending\n",
    "sorted('hello world')\n",
    "sorted('hello world', reverse=True)"
   ]
  },
  {
   "cell_type": "markdown",
   "id": "f3400440",
   "metadata": {},
   "source": [
    "2 - finctions for strings only"
   ]
  },
  {
   "cell_type": "code",
   "execution_count": 31,
   "id": "7476b2ca",
   "metadata": {},
   "outputs": [
    {
     "data": {
      "text/plain": [
       "'Hello world'"
      ]
     },
     "execution_count": 31,
     "metadata": {},
     "output_type": "execute_result"
    }
   ],
   "source": [
    "# capitalize - first letter capital\n",
    "s='hello world'\n",
    "s.capitalize()"
   ]
  },
  {
   "cell_type": "code",
   "execution_count": 32,
   "id": "60531600",
   "metadata": {},
   "outputs": [
    {
     "data": {
      "text/plain": [
       "'Hello World How Are You'"
      ]
     },
     "execution_count": 32,
     "metadata": {},
     "output_type": "execute_result"
    }
   ],
   "source": [
    "#title - har word ka first letter capial\n",
    "s='hello world how are you'\n",
    "s.title()"
   ]
  },
  {
   "cell_type": "code",
   "execution_count": 34,
   "id": "80b6465d",
   "metadata": {},
   "outputs": [
    {
     "data": {
      "text/plain": [
       "'hello world how are you'"
      ]
     },
     "execution_count": 34,
     "metadata": {},
     "output_type": "execute_result"
    }
   ],
   "source": [
    "#upper - uppercase\n",
    "#lower- lowercase\n",
    "s.upper()\n",
    "s.lower()"
   ]
  },
  {
   "cell_type": "code",
   "execution_count": 36,
   "id": "27343d4b",
   "metadata": {},
   "outputs": [
    {
     "data": {
      "text/plain": [
       "'hELLO wORLD'"
      ]
     },
     "execution_count": 36,
     "metadata": {},
     "output_type": "execute_result"
    }
   ],
   "source": [
    "#swapcase - lower to capital and vice versa\n",
    "'Hello World'.swapcase()"
   ]
  },
  {
   "cell_type": "code",
   "execution_count": 37,
   "id": "b2a6f933",
   "metadata": {},
   "outputs": [
    {
     "data": {
      "text/plain": [
       "3"
      ]
     },
     "execution_count": 37,
     "metadata": {},
     "output_type": "execute_result"
    }
   ],
   "source": [
    "#count- frquency count \n",
    "#find- find index of substring\n",
    "#index- same as found unlike find if string not find it throws error instead of -1\n",
    "'my name is aditya singh'.count('i')"
   ]
  },
  {
   "cell_type": "code",
   "execution_count": 38,
   "id": "f8c8eb8c",
   "metadata": {},
   "outputs": [
    {
     "data": {
      "text/plain": [
       "8"
      ]
     },
     "execution_count": 38,
     "metadata": {},
     "output_type": "execute_result"
    }
   ],
   "source": [
    "'my name is aditya singh'.find('is')"
   ]
  },
  {
   "cell_type": "code",
   "execution_count": 39,
   "id": "7ce8b06e",
   "metadata": {},
   "outputs": [
    {
     "data": {
      "text/plain": [
       "8"
      ]
     },
     "execution_count": 39,
     "metadata": {},
     "output_type": "execute_result"
    }
   ],
   "source": [
    "'my name is aditya singh'.find('i')"
   ]
  },
  {
   "cell_type": "code",
   "execution_count": 40,
   "id": "4067ba8f",
   "metadata": {},
   "outputs": [
    {
     "data": {
      "text/plain": [
       "-1"
      ]
     },
     "execution_count": 40,
     "metadata": {},
     "output_type": "execute_result"
    }
   ],
   "source": [
    "'my name is aditya singh'.find('z')"
   ]
  },
  {
   "cell_type": "code",
   "execution_count": 41,
   "id": "cb4549af",
   "metadata": {},
   "outputs": [
    {
     "ename": "ValueError",
     "evalue": "substring not found",
     "output_type": "error",
     "traceback": [
      "\u001b[1;31m---------------------------------------------------------------------------\u001b[0m",
      "\u001b[1;31mValueError\u001b[0m                                Traceback (most recent call last)",
      "Input \u001b[1;32mIn [41]\u001b[0m, in \u001b[0;36m<cell line: 1>\u001b[1;34m()\u001b[0m\n\u001b[1;32m----> 1\u001b[0m \u001b[38;5;124m'\u001b[39m\u001b[38;5;124mmy name is aditya singh\u001b[39m\u001b[38;5;124m'\u001b[39m\u001b[38;5;241m.\u001b[39mindex(\u001b[38;5;124m'\u001b[39m\u001b[38;5;124mz\u001b[39m\u001b[38;5;124m'\u001b[39m)\n",
      "\u001b[1;31mValueError\u001b[0m: substring not found"
     ]
    }
   ],
   "source": [
    "'my name is aditya singh'.index('z')"
   ]
  },
  {
   "cell_type": "code",
   "execution_count": null,
   "id": "dfa97618",
   "metadata": {},
   "outputs": [],
   "source": []
  }
 ],
 "metadata": {
  "kernelspec": {
   "display_name": "Python 3 (ipykernel)",
   "language": "python",
   "name": "python3"
  },
  "language_info": {
   "codemirror_mode": {
    "name": "ipython",
    "version": 3
   },
   "file_extension": ".py",
   "mimetype": "text/x-python",
   "name": "python",
   "nbconvert_exporter": "python",
   "pygments_lexer": "ipython3",
   "version": "3.10.2"
  }
 },
 "nbformat": 4,
 "nbformat_minor": 5
}
